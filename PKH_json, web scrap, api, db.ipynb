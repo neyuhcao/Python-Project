{
 "cells": [
  {
   "cell_type": "code",
   "execution_count": 8,
   "id": "69f033b8",
   "metadata": {},
   "outputs": [],
   "source": [
    "import json\n",
    "import pandas as pd"
   ]
  },
  {
   "cell_type": "markdown",
   "id": "458ab330",
   "metadata": {},
   "source": [
    "#### json File"
   ]
  },
  {
   "cell_type": "code",
   "execution_count": 3,
   "id": "2f06bb49",
   "metadata": {},
   "outputs": [],
   "source": [
    "example = \"\"\"\n",
    "{\n",
    "  \"glossary\": {\n",
    "    \"title\": \"example glossary\",\n",
    "    \"GlossDiv\": {\n",
    "      \"title\": \"S\",\n",
    "      \"GlossList\": {\n",
    "        \"GlossEntry\": {\n",
    "          \"ID\": \"SGML\",\n",
    "          \"SortAs\": \"SGML\",\n",
    "          \"GlossTerm\": \"Standard Generalized Markup Language\",\n",
    "          \"Acronym\": \"SGML\",\n",
    "          \"Abbrev\": \"ISO 8879:1986\",\n",
    "          \"GlossDef\": {\n",
    "            \"para\": \"A meta-markup language, used to create markup languages such as DocBook.\",\n",
    "            \"GlossSeeAlso\": [\n",
    "              \"GML\",\n",
    "              \"XML\"\n",
    "            ]\n",
    "          },\n",
    "          \"GlossSee\": \"markup\"\n",
    "        }\n",
    "      }\n",
    "    }\n",
    "  }\n",
    "}\n",
    "\"\"\""
   ]
  },
  {
   "cell_type": "code",
   "execution_count": 5,
   "id": "869f7ccf",
   "metadata": {},
   "outputs": [
    {
     "data": {
      "text/plain": [
       "{'glossary': {'title': 'example glossary',\n",
       "  'GlossDiv': {'title': 'S',\n",
       "   'GlossList': {'GlossEntry': {'ID': 'SGML',\n",
       "     'SortAs': 'SGML',\n",
       "     'GlossTerm': 'Standard Generalized Markup Language',\n",
       "     'Acronym': 'SGML',\n",
       "     'Abbrev': 'ISO 8879:1986',\n",
       "     'GlossDef': {'para': 'A meta-markup language, used to create markup languages such as DocBook.',\n",
       "      'GlossSeeAlso': ['GML', 'XML']},\n",
       "     'GlossSee': 'markup'}}}}}"
      ]
     },
     "execution_count": 5,
     "metadata": {},
     "output_type": "execute_result"
    }
   ],
   "source": [
    "dict_exp = json.loads(example) #convert string => dict\n",
    "dict_exp"
   ]
  },
  {
   "cell_type": "code",
   "execution_count": 6,
   "id": "0aab2bb4",
   "metadata": {},
   "outputs": [
    {
     "data": {
      "text/plain": [
       "'{\"glossary\": {\"title\": \"example glossary\", \"GlossDiv\": {\"title\": \"S\", \"GlossList\": {\"GlossEntry\": {\"ID\": \"SGML\", \"SortAs\": \"SGML\", \"GlossTerm\": \"Standard Generalized Markup Language\", \"Acronym\": \"SGML\", \"Abbrev\": \"ISO 8879:1986\", \"GlossDef\": {\"para\": \"A meta-markup language, used to create markup languages such as DocBook.\", \"GlossSeeAlso\": [\"GML\", \"XML\"]}, \"GlossSee\": \"markup\"}}}}}'"
      ]
     },
     "execution_count": 6,
     "metadata": {},
     "output_type": "execute_result"
    }
   ],
   "source": [
    "str_exp = json.dumps(dict_exp) #convert dict => string\n",
    "str_exp"
   ]
  },
  {
   "cell_type": "code",
   "execution_count": 8,
   "id": "e0a990c7",
   "metadata": {},
   "outputs": [
    {
     "data": {
      "text/html": [
       "<div>\n",
       "<style scoped>\n",
       "    .dataframe tbody tr th:only-of-type {\n",
       "        vertical-align: middle;\n",
       "    }\n",
       "\n",
       "    .dataframe tbody tr th {\n",
       "        vertical-align: top;\n",
       "    }\n",
       "\n",
       "    .dataframe thead th {\n",
       "        text-align: right;\n",
       "    }\n",
       "</style>\n",
       "<table border=\"1\" class=\"dataframe\">\n",
       "  <thead>\n",
       "    <tr style=\"text-align: right;\">\n",
       "      <th></th>\n",
       "      <th>title</th>\n",
       "      <th>GlossDiv</th>\n",
       "    </tr>\n",
       "  </thead>\n",
       "  <tbody>\n",
       "    <tr>\n",
       "      <th>GlossList</th>\n",
       "      <td>example glossary</td>\n",
       "      <td>{'GlossEntry': {'ID': 'SGML', 'SortAs': 'SGML'...</td>\n",
       "    </tr>\n",
       "    <tr>\n",
       "      <th>title</th>\n",
       "      <td>example glossary</td>\n",
       "      <td>S</td>\n",
       "    </tr>\n",
       "  </tbody>\n",
       "</table>\n",
       "</div>"
      ],
      "text/plain": [
       "                      title                                           GlossDiv\n",
       "GlossList  example glossary  {'GlossEntry': {'ID': 'SGML', 'SortAs': 'SGML'...\n",
       "title      example glossary                                                  S"
      ]
     },
     "execution_count": 8,
     "metadata": {},
     "output_type": "execute_result"
    }
   ],
   "source": [
    "df = pd.DataFrame(dict_exp['glossary'])\n",
    "df"
   ]
  },
  {
   "cell_type": "code",
   "execution_count": 9,
   "id": "e8727d60",
   "metadata": {},
   "outputs": [
    {
     "name": "stdout",
     "output_type": "stream",
     "text": [
      "[{\"title\":\"example glossary\",\"GlossDiv\":{\"GlossEntry\":{\"ID\":\"SGML\",\"SortAs\":\"SGML\",\"GlossTerm\":\"Standard Generalized Markup Language\",\"Acronym\":\"SGML\",\"Abbrev\":\"ISO 8879:1986\",\"GlossDef\":{\"para\":\"A meta-markup language, used to create markup languages such as DocBook.\",\"GlossSeeAlso\":[\"GML\",\"XML\"]},\"GlossSee\":\"markup\"}}},{\"title\":\"example glossary\",\"GlossDiv\":\"S\"}]\n"
     ]
    }
   ],
   "source": [
    "print(df.to_json(orient = 'records'))"
   ]
  },
  {
   "cell_type": "markdown",
   "id": "fced1aa3",
   "metadata": {},
   "source": [
    "#### Web Scraping"
   ]
  },
  {
   "cell_type": "code",
   "execution_count": 11,
   "id": "4bed742c",
   "metadata": {},
   "outputs": [
    {
     "name": "stdout",
     "output_type": "stream",
     "text": [
      "Requirement already satisfied: beautifulsoup4 in c:\\users\\caohu\\anaconda3\\lib\\site-packages (4.12.2)\n",
      "Requirement already satisfied: soupsieve>1.2 in c:\\users\\caohu\\anaconda3\\lib\\site-packages (from beautifulsoup4) (2.4)\n",
      "Note: you may need to restart the kernel to use updated packages.\n"
     ]
    }
   ],
   "source": [
    "pip install beautifulsoup4"
   ]
  },
  {
   "cell_type": "code",
   "execution_count": 16,
   "id": "dc48baef",
   "metadata": {
    "scrolled": false
   },
   "outputs": [
    {
     "name": "stdout",
     "output_type": "stream",
     "text": [
      "<html><body><h1>500 Internal Server Error</h1>\n",
      "An internal server error occurred.\n",
      "</body></html>\n",
      "\n"
     ]
    },
    {
     "data": {
      "text/html": [
       "<div>\n",
       "<style scoped>\n",
       "    .dataframe tbody tr th:only-of-type {\n",
       "        vertical-align: middle;\n",
       "    }\n",
       "\n",
       "    .dataframe tbody tr th {\n",
       "        vertical-align: top;\n",
       "    }\n",
       "\n",
       "    .dataframe thead th {\n",
       "        text-align: right;\n",
       "    }\n",
       "</style>\n",
       "<table border=\"1\" class=\"dataframe\">\n",
       "  <thead>\n",
       "    <tr style=\"text-align: right;\">\n",
       "      <th></th>\n",
       "      <th>Product Name</th>\n",
       "      <th>Price</th>\n",
       "      <th>Rating</th>\n",
       "    </tr>\n",
       "  </thead>\n",
       "  <tbody>\n",
       "  </tbody>\n",
       "</table>\n",
       "</div>"
      ],
      "text/plain": [
       "Empty DataFrame\n",
       "Columns: [Product Name, Price, Rating]\n",
       "Index: []"
      ]
     },
     "execution_count": 16,
     "metadata": {},
     "output_type": "execute_result"
    }
   ],
   "source": [
    "import requests \n",
    "from bs4 import BeautifulSoup\n",
    "\n",
    "# Making a GET request\n",
    "r = requests.get('https://www.flipkart.com/ Laptops/-buyback-guarantee-on-Laptops-/pr?sid=6bo%2Cb5g&uniq8StoreParam-valllwid-11.productCard. PMU_V2', allow_redirects=False)\n",
    "\n",
    "# Parsing the HTML\n",
    "soup = BeautifulSoup(r.content, 'html.parser')\n",
    "print(soup)\n",
    "products = [] #List to store name of the product\n",
    "prices = [] #List to store price of the product\n",
    "ratings = [] #List to store rating of the product\n",
    "for a in soup.findAll('a',href=True, attrs={'class':'tUxRFH'}):\n",
    "    name = a.find('div', attrs={'class': 'KzDlHZ'})\n",
    "    price = a.find('div', attrs={'class': 'Nx9bqj _4b5DiR'})\n",
    "    rating = a.find('div', attrs= {\"class\":'XQDdHH'})\n",
    "    products.append(name.text)\n",
    "    prices.append(price.text)\n",
    "    ratings.append(rating.text)\n",
    "df = pd.DataFrame({'Product Name':products, 'Price':prices, 'Rating': ratings})\n",
    "df"
   ]
  },
  {
   "cell_type": "markdown",
   "id": "a99b2436",
   "metadata": {},
   "source": [
    "#### API WEB"
   ]
  },
  {
   "cell_type": "code",
   "execution_count": 23,
   "id": "14fc5c50",
   "metadata": {},
   "outputs": [
    {
     "data": {
      "text/html": [
       "<div>\n",
       "<style scoped>\n",
       "    .dataframe tbody tr th:only-of-type {\n",
       "        vertical-align: middle;\n",
       "    }\n",
       "\n",
       "    .dataframe tbody tr th {\n",
       "        vertical-align: top;\n",
       "    }\n",
       "\n",
       "    .dataframe thead th {\n",
       "        text-align: right;\n",
       "    }\n",
       "</style>\n",
       "<table border=\"1\" class=\"dataframe\">\n",
       "  <thead>\n",
       "    <tr style=\"text-align: right;\">\n",
       "      <th></th>\n",
       "      <th>country_id</th>\n",
       "      <th>probability</th>\n",
       "    </tr>\n",
       "  </thead>\n",
       "  <tbody>\n",
       "    <tr>\n",
       "      <th>0</th>\n",
       "      <td>NG</td>\n",
       "      <td>0.228771</td>\n",
       "    </tr>\n",
       "    <tr>\n",
       "      <th>1</th>\n",
       "      <td>NE</td>\n",
       "      <td>0.133576</td>\n",
       "    </tr>\n",
       "    <tr>\n",
       "      <th>2</th>\n",
       "      <td>GH</td>\n",
       "      <td>0.110503</td>\n",
       "    </tr>\n",
       "    <tr>\n",
       "      <th>3</th>\n",
       "      <td>TT</td>\n",
       "      <td>0.040073</td>\n",
       "    </tr>\n",
       "    <tr>\n",
       "      <th>4</th>\n",
       "      <td>ID</td>\n",
       "      <td>0.037704</td>\n",
       "    </tr>\n",
       "  </tbody>\n",
       "</table>\n",
       "</div>"
      ],
      "text/plain": [
       "  country_id  probability\n",
       "0         NG     0.228771\n",
       "1         NE     0.133576\n",
       "2         GH     0.110503\n",
       "3         TT     0.040073\n",
       "4         ID     0.037704"
      ]
     },
     "execution_count": 23,
     "metadata": {},
     "output_type": "execute_result"
    }
   ],
   "source": [
    "import json\n",
    "import pandas as pd\n",
    "import requests \n",
    "from bs4 import BeautifulSoup\n",
    "\n",
    "# Making a GET request\n",
    "r = requests.get('https://api.nationalize.io?name=nathaniel', allow_redirects=False)\n",
    "\n",
    "# # Parsing the HTML\n",
    "data_dict = r.json()\n",
    "data = data_dict['country']\n",
    "df = pd.DataFrame(data)\n",
    "df"
   ]
  },
  {
   "cell_type": "markdown",
   "id": "9a719f8c",
   "metadata": {},
   "source": [
    "#### DB"
   ]
  },
  {
   "cell_type": "code",
   "execution_count": 25,
   "id": "aa84461c",
   "metadata": {},
   "outputs": [],
   "source": [
    "import sqlite3\n",
    "sql = \"create table test(id int, name varchar(100))\" #tạo sql\n",
    "con = sqlite3.connect('mydata.sqlite') #connect sql vừa tạo tới sqlite3\n",
    "con.execute(sql)\n",
    "con.commit()"
   ]
  },
  {
   "cell_type": "code",
   "execution_count": 29,
   "id": "87668a8e",
   "metadata": {},
   "outputs": [],
   "source": [
    "con.execute(\"insert into test values (1, '123')\")\n",
    "con.commit()"
   ]
  },
  {
   "cell_type": "code",
   "execution_count": 28,
   "id": "ab43b791",
   "metadata": {},
   "outputs": [
    {
     "data": {
      "text/plain": [
       "[(1, '123')]"
      ]
     },
     "execution_count": 28,
     "metadata": {},
     "output_type": "execute_result"
    }
   ],
   "source": [
    "cursor = con.execute(\"select * from test\")\n",
    "data = cursor.fetchall()\n",
    "data    # list data"
   ]
  },
  {
   "cell_type": "markdown",
   "id": "43c0bcd0",
   "metadata": {},
   "source": [
    "insert data từ dữ liệu có sẵn"
   ]
  },
  {
   "cell_type": "code",
   "execution_count": 30,
   "id": "c8025685",
   "metadata": {},
   "outputs": [],
   "source": [
    "data = [('2','inda 2'),('3','inda 3')]\n",
    "con.executemany(\"insert into test values (?, ?)\", data)\n",
    "con.commit()"
   ]
  },
  {
   "cell_type": "code",
   "execution_count": 31,
   "id": "c268c695",
   "metadata": {},
   "outputs": [
    {
     "data": {
      "text/plain": [
       "[(1, '123'), (1, '123'), (2, 'inda 2'), (3, 'inda 3')]"
      ]
     },
     "execution_count": 31,
     "metadata": {},
     "output_type": "execute_result"
    }
   ],
   "source": [
    "cursor = con.execute(\"select * from test\")\n",
    "data = cursor.fetchall()\n",
    "data    # list data"
   ]
  },
  {
   "cell_type": "code",
   "execution_count": null,
   "id": "060f0723",
   "metadata": {},
   "outputs": [],
   "source": []
  }
 ],
 "metadata": {
  "kernelspec": {
   "display_name": "Python 3 (ipykernel)",
   "language": "python",
   "name": "python3"
  },
  "language_info": {
   "codemirror_mode": {
    "name": "ipython",
    "version": 3
   },
   "file_extension": ".py",
   "mimetype": "text/x-python",
   "name": "python",
   "nbconvert_exporter": "python",
   "pygments_lexer": "ipython3",
   "version": "3.11.5"
  }
 },
 "nbformat": 4,
 "nbformat_minor": 5
}
